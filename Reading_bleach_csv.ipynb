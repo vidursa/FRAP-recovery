{
 "cells": [
  {
   "cell_type": "code",
   "execution_count": 1,
   "metadata": {},
   "outputs": [],
   "source": [
    "import numpy as np\n",
    "import pandas as pd\n",
    "import lmfit\n",
    "import matplotlib.pyplot as plt\n",
    "from matplotlib import animation, rc\n",
    "import math\n",
    "from IPython.display import HTML\n",
    "from scipy.special import erf"
   ]
  },
  {
   "cell_type": "code",
   "execution_count": 2,
   "metadata": {},
   "outputs": [],
   "source": [
    "#initial conditions\n",
    "def init_all():\n",
    "    ax.set_xlabel('Distance(um)', fontsize=9)\n",
    "    ax.set_ylabel('Normalized Intensity', fontsize=9)\n",
    "    ax.set_title('Title', fontsize=9)\n",
    "    line.set_data([], [])\n",
    "    return line,\n",
    "\n",
    "\n",
    "def animate_all(i, xs, y):\n",
    "    ys = y[i]\n",
    "    #ax.clear()\n",
    "    line.set_data(xs, ys)\n",
    "    return line,\n",
    "\n",
    "\n",
    "def plot():\n",
    "    #Defining the plot\n",
    "    fig = plt.figure()\n",
    "    ax = fig.add_subplot(111, autoscale_on=False, xlim=(0, 50), ylim=(-1, 3.5))\n",
    "    ax.grid()\n",
    "    ax.autoscale(enable=False)\n",
    "    line1, = ax.plot([], [], 'o-', lw=2)\n",
    "    line2, = ax.plot([], [], 'r-', lw=2)\n",
    "    time_template = 'time = %.1fs'\n",
    "    time_text = ax.text(0.05, 0.9, '', transform=ax.transAxes, bbox=dict(facecolor='red', alpha=0.5))\n",
    "    diffusion_template = 'diffusion = %.2f$um^2/s$'\n",
    "    diffusion_text = ax.text(0.63, 0.9, '', transform=ax.transAxes, bbox=dict(facecolor='red', alpha=0.5))\n",
    "    return fig, ax, line1, line2, time_template, time_text, diffusion_template, diffusion_text\n"
   ]
  },
  {
   "cell_type": "code",
   "execution_count": 3,
   "metadata": {},
   "outputs": [],
   "source": [
    "file2 = 'https://raw.githubusercontent.com/vidursa/FRAP-recovery/master/FRAP-w1.csv'"
   ]
  },
  {
   "cell_type": "code",
   "execution_count": 4,
   "metadata": {},
   "outputs": [],
   "source": [
    "#import and clean data\n",
    "df = pd.read_csv(file2)\n",
    "df=df.values\n",
    "X,y,t,Bleach_iteration,bound = df.T\n",
    "X = X[~np.isnan(X)]\n",
    "t = t[~np.isnan(t)]\n",
    "Bleach_iteration = Bleach_iteration[~np.isnan(Bleach_iteration)]\n",
    "bound = bound[~np.isnan(bound)]\n",
    "y=np.reshape(y, (int(y.size/X.size),X.size))"
   ]
  },
  {
   "cell_type": "code",
   "execution_count": null,
   "metadata": {},
   "outputs": [],
   "source": [
    "fig = plt.figure()\n",
    "ax = fig.add_subplot(111, autoscale_on=False, xlim=(0, 90), ylim=(-0.5, 3000))\n",
    "ax.grid()\n",
    "ax.autoscale(enable=False)\n",
    "line, = ax.plot([], [], 'o-', lw=2)\n",
    "    \n",
    "ani = animation.FuncAnimation(fig, animate_all,frames=38, interval=1000, init_func=init_all, blit=True, fargs=[X,y])\n",
    "#ani.save(file2+'_all.mp4', fps=1, extra_args=['-vcodec', 'libx264'])\n",
    "plt.close()     \n",
    "HTML(ani.to_jshtml())\n"
   ]
  },
  {
   "cell_type": "code",
   "execution_count": null,
   "metadata": {},
   "outputs": [],
   "source": []
  },
  {
   "cell_type": "code",
   "execution_count": null,
   "metadata": {},
   "outputs": [],
   "source": []
  },
  {
   "cell_type": "code",
   "execution_count": null,
   "metadata": {},
   "outputs": [],
   "source": []
  }
 ],
 "metadata": {
  "kernelspec": {
   "display_name": "Python 3",
   "language": "python",
   "name": "python3"
  },
  "language_info": {
   "codemirror_mode": {
    "name": "ipython",
    "version": 3
   },
   "file_extension": ".py",
   "mimetype": "text/x-python",
   "name": "python",
   "nbconvert_exporter": "python",
   "pygments_lexer": "ipython3",
   "version": "3.6.3"
  }
 },
 "nbformat": 4,
 "nbformat_minor": 4
}
